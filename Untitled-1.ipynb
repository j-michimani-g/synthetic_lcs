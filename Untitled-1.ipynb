{
 "cells": [
  {
   "cell_type": "markdown",
   "id": "a73aed88",
   "metadata": {},
   "source": [
    "### input lightcurves (lcs)\n",
    "This notebook creates the input lightcurves file (lcs) needed to run the <samp>lcgenerator</samp> program\n",
    "\n",
    "`````\n",
    "cat lcs | ./lcgenerator -v input_par shape out_lcs\n",
    "`````"
   ]
  },
  {
   "cell_type": "markdown",
   "id": "d48a279f",
   "metadata": {},
   "source": [
    "### import python packages"
   ]
  },
  {
   "cell_type": "code",
   "execution_count": 1,
   "id": "d2d0554d",
   "metadata": {},
   "outputs": [],
   "source": [
    "import re\n",
    "\n",
    "import pandas as pd\n",
    "import numpy as np\n",
    "\n",
    "from astroquery.jplsbdb import SBDB\n",
    "from astroquery.jplhorizons import Horizons\n",
    "\n",
    "from astropy.time import Time\n"
   ]
  },
  {
   "cell_type": "markdown",
   "id": "09715e01",
   "metadata": {},
   "source": [
    "Inputs needed:\n",
    "\n",
    "- **target_id**: Asteroid number\n",
    "- **period**: Rotational period in hours\n",
    "- **step_size**: Sampling interval in minutes\n",
    "- **date_UT**: Starting date (in UT) for the lightcurve\n",
    "- **file_path**: Directory path where the generated file will be saved\n",
    "\n",
    "Suppose you want to generate a lightcurve starting from a certain date. The `step_size` determines the frequency of data points, which will be sampled at intervals of 5, 10, 15 minutes, or any value you provide, until you cover one full rotation period. The generated file will be saved in the directory specified by the `file_path`, with the starting epoch of the lightcurve included in the filename.\n",
    "\n",
    "Make sure that the total number of data points in the file does not exceed 1000. "
   ]
  },
  {
   "cell_type": "code",
   "execution_count": null,
   "id": "6020128c",
   "metadata": {},
   "outputs": [],
   "source": [
    "target_id = # Example: 1627\n",
    "\n",
    "period =  # Example: 4.795168 \n",
    "\n",
    "step_size = # Example: '5m'\n",
    "\n",
    "date_UT= # Example: '2025-06-04 18:40:47'\n",
    "\n",
    "file_path = # Example: \"/home/usuario/synthetic_lcs/\""
   ]
  },
  {
   "cell_type": "code",
   "execution_count": null,
   "id": "f207bee4",
   "metadata": {},
   "outputs": [],
   "source": [
    "sbdb = SBDB.query(target_id)\n",
    "fullname = sbdb['object']['fullname']\n",
    "SBDB.clear_cache()\n",
    "match = re.search(r'\\((.*?)\\)', fullname)\n",
    "target_id_JPL = match.group(1)\n",
    "\n",
    "date_UT_zero = Time(date_UT, format='iso', scale='utc')\n",
    "\n",
    "epoch_periods = [date_UT_zero.jd,]\n",
    "\n",
    "for i in epoch_periods:\n",
    "    jd_zero = i \n",
    "    epoch_start = Time(jd_zero, format='jd', scale='utc').iso\n",
    "    epoch_stop = Time(jd_zero + period/24, format='jd', scale='utc').iso \n",
    "    step = step_size\n",
    "\n",
    "    coordinates_Sun = Horizons(id=str(target_id_JPL), location='500@10',epochs={\"start\":epoch_start,\"stop\":epoch_stop,\"step\":step})\n",
    "    tab_coordinates_Sun = coordinates_Sun.vectors(refplane='ecliptic',aberrations='geometric')\n",
    "    df_coordinates_Sun = tab_coordinates_Sun.to_pandas()\n",
    "\n",
    "    coordinates_Earth = Horizons(id=str(target_id_JPL), location='500',epochs={\"start\":epoch_start,\"stop\":epoch_stop,\"step\":step})\n",
    "    tab_coordinates_Earth = coordinates_Earth.vectors(refplane='ecliptic',aberrations='geometric')\n",
    "    df_coordinates_Earth = tab_coordinates_Earth.to_pandas()\n",
    "\n",
    "    df_Sun = df_coordinates_Sun.loc[:,['datetime_jd','H','x','y','z']]\n",
    "    df_Sun.rename(columns={\"datetime_jd\": \"epoch\",'H':'H_mag',\"x\": \"x_Sun\", \"y\": \"y_Sun\", \"z\": \"z_Sun\"},inplace=True)\n",
    "    df_Sun.loc[:,'x_Sun'] = df_Sun['x_Sun']*-1\n",
    "    df_Sun.loc[:,'y_Sun'] = df_Sun['y_Sun']*-1\n",
    "    df_Sun.loc[:,'z_Sun'] = df_Sun['z_Sun']*-1\n",
    "\n",
    "    df_Earth = df_coordinates_Earth.loc[:,['x','y','z']]\n",
    "    df_Earth.rename(columns={\"x\": \"x_Earth\", \"y\": \"y_Earth\", \"z\": \"z_Earth\"},inplace=True)\n",
    "    df_Earth.loc[:,'x_Earth'] = df_Earth['x_Earth']*-1\n",
    "    df_Earth.loc[:,'y_Earth'] = df_Earth['y_Earth']*-1\n",
    "    df_Earth.loc[:,'z_Earth'] = df_Earth['z_Earth']*-1\n",
    "\n",
    "    light_curve =  pd.concat([df_Sun,df_Earth], axis=1).reindex(df_Sun.index)\n",
    "\n",
    "    x_0 = light_curve.epoch.to_numpy()\n",
    "    x_1 = light_curve.H_mag.to_numpy()\n",
    "    x_2 = light_curve.x_Sun.to_numpy()\n",
    "    x_3 = light_curve.y_Sun.to_numpy()\n",
    "    x_4 = light_curve.z_Sun.to_numpy()\n",
    "    x_5 = light_curve.x_Earth.to_numpy()\n",
    "    x_6 = light_curve.y_Earth.to_numpy()\n",
    "    x_7 = light_curve.z_Earth.to_numpy() \n",
    "\n",
    "    df_x = np.column_stack((x_0,x_1,x_2,x_3,x_4,x_5,x_6,x_7))\n",
    "\n",
    "    file_name = 'lc_' +  str(i)\n",
    "\n",
    "    fmt = '%.6f', ' %1.6e', '  %1.6e', '%1.6e', '%1.6e', '  %1.6e', '%1.6e', '%1.6e'\n",
    "\n",
    "    np.savetxt(file_path + file_name, df_x, fmt=fmt)\n",
    "\n",
    "    f = open(file_path + file_name,'r+')\n",
    "    lines = f.readlines() # read old content\n",
    "    f.seek(0) # go back to the beginning of the file\n",
    "\n",
    "    f.write('1\\n') # write new content at the beginning\n",
    "    f.write(str(len(df_x)) + ' 0\\n')\n",
    "    for line in lines: # write old content after new\n",
    "        f.write(line)\n",
    "    f.close()"
   ]
  }
 ],
 "metadata": {
  "kernelspec": {
   "display_name": "base",
   "language": "python",
   "name": "python3"
  },
  "language_info": {
   "codemirror_mode": {
    "name": "ipython",
    "version": 3
   },
   "file_extension": ".py",
   "mimetype": "text/x-python",
   "name": "python",
   "nbconvert_exporter": "python",
   "pygments_lexer": "ipython3",
   "version": "3.12.7"
  }
 },
 "nbformat": 4,
 "nbformat_minor": 5
}
