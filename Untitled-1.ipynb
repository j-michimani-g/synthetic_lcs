{
 "cells": [
  {
   "cell_type": "markdown",
   "id": "a73aed88",
   "metadata": {},
   "source": [
    "# Input lightcurves (lcs)\n",
    "The input file contains epochs and the corresponding geometry, it is read from the standard\n",
    "input. The format is the same as for convexinv. Although brightness values from this file\n",
    "are not used in the code, this format enables one to use the same lightcurve file for creating\n",
    "a model and for checking results.\n",
    "Note that output lightcurves from convexinv or conjgrad may be slightly different from\n",
    "those from lcgenerator. The difference is caused by the dark facet and by Minkowski\n",
    "conversion."
   ]
  },
  {
   "cell_type": "markdown",
   "id": "58342486",
   "metadata": {},
   "source": [
    "This notebook creates the input lightcurves file (lcs) needed to run the lcgenerator C routine \n",
    "\n",
    "cat lcs | lcgenerator [-v] input_par shape out_lcs"
   ]
  },
  {
   "cell_type": "markdown",
   "id": "d48a279f",
   "metadata": {},
   "source": [
    "### Import python packages"
   ]
  },
  {
   "cell_type": "code",
   "execution_count": 9,
   "id": "d2d0554d",
   "metadata": {},
   "outputs": [],
   "source": [
    "import re\n",
    "\n",
    "import pandas as pd\n",
    "import numpy as np\n",
    "\n",
    "from astroquery.jplsbdb import SBDB\n",
    "from astroquery.jplhorizons import Horizons\n",
    "\n",
    "from astropy.time import Time\n"
   ]
  },
  {
   "cell_type": "markdown",
   "id": "741854c3",
   "metadata": {},
   "source": [
    "#define POINTS_MAX         1000             /* max number of data points in one lc. */\n",
    "#define MAX_N_OBS         10000             /* max number of data points */\n",
    "#define MAX_LC              100             /* max number of lightcurves */\n",
    "#define MAX_LINE_LENGTH    1000             /* max length of line in the input file */\n",
    "#define MAX_N_FAC         10000             /* max number of facets */\n",
    "#define N_PHOT_PAR            3             /* maximum number of parameters in scattering  law */\n",
    "\n",
    "#define PI                    3.14159265358979323846\n",
    "\n",
    "#define DEG2RAD      (PI / 180)\n",
    "#define RAD2DEG      (180 / PI)"
   ]
  },
  {
   "cell_type": "code",
   "execution_count": 10,
   "id": "6020128c",
   "metadata": {},
   "outputs": [],
   "source": [
    "target_id = 1627\n",
    "\n",
    "period = 4.795168 # ratational period in hours\n",
    "\n",
    "date_UT= '2025-06-04 18:40:47'     # Example: ‘2000-01-01 00:00:00.000’"
   ]
  },
  {
   "cell_type": "code",
   "execution_count": 11,
   "id": "4d0a8616",
   "metadata": {},
   "outputs": [
    {
     "name": "stdout",
     "output_type": "stream",
     "text": [
      "1627 Ivar (1929 SH)\n",
      "1627 Ivar\n",
      "1929 SH\n"
     ]
    }
   ],
   "source": [
    "sbdb = SBDB.query(target_id)\n",
    "fullname = sbdb['object']['fullname']\n",
    "shortname = sbdb['object']['shortname']\n",
    "SBDB.clear_cache()\n",
    "match = re.search(r'\\((.*?)\\)', fullname)\n",
    "target_id_JPL = match.group(1)\n",
    "\n",
    "print(fullname)\n",
    "print(shortname)\n",
    "print(target_id_JPL)"
   ]
  },
  {
   "cell_type": "code",
   "execution_count": null,
   "id": "f207bee4",
   "metadata": {},
   "outputs": [],
   "source": [
    "date_UT_zero = Time(date_UT, format='iso', scale='utc')\n",
    "\n",
    "epoch_periods = [date_UT_zero.jd,]\n",
    "\n",
    "for i in epoch_periods:\n",
    "    jd_zero = i \n",
    "    epoch_start = Time(jd_zero, format='jd', scale='utc').iso\n",
    "    epoch_stop = Time(jd_zero + period/24, format='jd', scale='utc').iso \n",
    "    step = \"5m\"\n",
    "\n",
    "    coordinates_Sun = Horizons(id=str(target_id), location='500@10',epochs={\"start\":epoch_start,\"stop\":epoch_stop,\"step\":step})\n",
    "    tab_coordinates_Sun = coordinates_Sun.vectors(refplane='ecliptic',aberrations='geometric')\n",
    "    df_coordinates_Sun = tab_coordinates_Sun.to_pandas()\n",
    "\n",
    "    coordinates_Earth = Horizons(id=str(target_id), location='500',epochs={\"start\":epoch_start,\"stop\":epoch_stop,\"step\":step})\n",
    "    tab_coordinates_Earth = coordinates_Earth.vectors(refplane='ecliptic',aberrations='geometric')\n",
    "    df_coordinates_Earth = tab_coordinates_Earth.to_pandas()\n",
    "\n",
    "    df_Sun = df_coordinates_Sun.loc[:,['datetime_jd','H','x','y','z']]\n",
    "    df_Sun.rename(columns={\"datetime_jd\": \"epoch\",'H':'H_mag',\"x\": \"x_Sun\", \"y\": \"y_Sun\", \"z\": \"z_Sun\"},inplace=True)\n",
    "    df_Sun.loc[:,'x_Sun'] = df_Sun['x_Sun']*-1\n",
    "    df_Sun.loc[:,'y_Sun'] = df_Sun['y_Sun']*-1\n",
    "    df_Sun.loc[:,'z_Sun'] = df_Sun['z_Sun']*-1\n",
    "\n",
    "    df_Earth = df_coordinates_Earth.loc[:,['x','y','z']]\n",
    "    df_Earth.rename(columns={\"x\": \"x_Earth\", \"y\": \"y_Earth\", \"z\": \"z_Earth\"},inplace=True)\n",
    "    df_Earth.loc[:,'x_Earth'] = df_Earth['x_Earth']*-1\n",
    "    df_Earth.loc[:,'y_Earth'] = df_Earth['y_Earth']*-1\n",
    "    df_Earth.loc[:,'z_Earth'] = df_Earth['z_Earth']*-1\n",
    "\n",
    "    light_curve =  pd.concat([df_Sun,df_Earth], axis=1).reindex(df_Sun.index)\n",
    "\n",
    "    x_0 = light_curve.epoch.to_numpy()\n",
    "    x_1 = light_curve.H_mag.to_numpy()\n",
    "    x_2 = light_curve.x_Sun.to_numpy()\n",
    "    x_3 = light_curve.y_Sun.to_numpy()\n",
    "    x_4 = light_curve.z_Sun.to_numpy()\n",
    "    x_5 = light_curve.x_Earth.to_numpy()\n",
    "    x_6 = light_curve.y_Earth.to_numpy()\n",
    "    x_7 = light_curve.z_Earth.to_numpy() \n",
    "\n",
    "    df_x = np.column_stack((x_0,x_1,x_2,x_3,x_4,x_5,x_6,x_7))\n",
    "\n",
    "    file_name = 'lc_' +  str(i)\n",
    "\n",
    "    fmt = '%.6f', ' %1.6e', '  %1.6e', '%1.6e', '%1.6e', '  %1.6e', '%1.6e', '%1.6e'\n",
    "\n",
    "    np.savetxt(path_file_lc + file_name, df_x, fmt=fmt)\n",
    "\n",
    "    f = open(path_file_lc + file_name,'r+')\n",
    "    lines = f.readlines() # read old content\n",
    "    f.seek(0) # go back to the beginning of the file\n",
    "\n",
    "    f.write('1\\n') # write new content at the beginning\n",
    "    f.write(str(len(df_x)) + ' 0\\n')\n",
    "    for line in lines: # write old content after new\n",
    "        f.write(line)\n",
    "    f.close()"
   ]
  }
 ],
 "metadata": {
  "kernelspec": {
   "display_name": "base",
   "language": "python",
   "name": "python3"
  },
  "language_info": {
   "codemirror_mode": {
    "name": "ipython",
    "version": 3
   },
   "file_extension": ".py",
   "mimetype": "text/x-python",
   "name": "python",
   "nbconvert_exporter": "python",
   "pygments_lexer": "ipython3",
   "version": "3.12.7"
  }
 },
 "nbformat": 4,
 "nbformat_minor": 5
}
